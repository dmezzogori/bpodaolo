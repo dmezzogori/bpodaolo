{
 "cells": [
  {
   "cell_type": "markdown",
   "id": "e464cd49-36f2-40d7-9703-148df52bb1ae",
   "metadata": {},
   "source": [
    "# Brief recap on Python generators"
   ]
  },
  {
   "cell_type": "markdown",
   "id": "b01d6203-ab25-4d9e-bf45-4fe8ddbc2cfa",
   "metadata": {},
   "source": [
    "Reference: [python-mastery repo](https://github.com/dabeaz-course/python-mastery)\n",
    "\n",
    "In particular, see [pdf](https://github.com/dabeaz-course/python-mastery/blob/main/PythonMastery.pdf) from page 468 onwards\n",
    "\n",
    "Credit: \"Advanced Python Mastery\" by [David Beazley](https://www.dabeaz.com)"
   ]
  },
  {
   "cell_type": "code",
   "execution_count": 1,
   "id": "6d8a6df33141ee99",
   "metadata": {
    "collapsed": false,
    "jupyter": {
     "outputs_hidden": false
    }
   },
   "outputs": [],
   "source": [
    "from collections.abc import Iterable, Generator\n",
    "\n",
    "import simpy"
   ]
  },
  {
   "cell_type": "code",
   "execution_count": 2,
   "id": "4b3310bd-9ce0-4170-b2e7-afb032c9a9b5",
   "metadata": {},
   "outputs": [],
   "source": [
    "def finite_generator(n: int) -> Iterable[int]:\n",
    "    \"\"\"\n",
    "    generate the sequence of first n even numbers\n",
    "    \"\"\"\n",
    "\n",
    "    print(\"start generation...\")\n",
    "    \n",
    "    i = 0\n",
    "    c = 0\n",
    "    while True:\n",
    "        if c == n:\n",
    "            print(\"end of generation.\")\n",
    "            return\n",
    "        if i % 2 == 0:\n",
    "            yield i\n",
    "            c += 1\n",
    "        i += 1\n"
   ]
  },
  {
   "cell_type": "code",
   "execution_count": 6,
   "id": "c8bc6d90-bbca-4c51-8519-c2b9be1c20b6",
   "metadata": {},
   "outputs": [
    {
     "name": "stdout",
     "output_type": "stream",
     "text": [
      "<function finite_generator at 0x1201351c0>\n"
     ]
    }
   ],
   "source": [
    "print(finite_generator)"
   ]
  },
  {
   "cell_type": "code",
   "execution_count": 3,
   "id": "36306bd8-fbf5-4076-8773-0999766cf714",
   "metadata": {},
   "outputs": [],
   "source": [
    "# calling a generator function creates a generator object.\n",
    "# it does not start running the function\n",
    "\n",
    "fin_gen = finite_generator(n=10)"
   ]
  },
  {
   "cell_type": "code",
   "execution_count": 5,
   "id": "43f73ab7-9375-49b1-8dad-06ad61f178be",
   "metadata": {},
   "outputs": [
    {
     "name": "stdout",
     "output_type": "stream",
     "text": [
      "<generator object finite_generator at 0x120112dc0>\n"
     ]
    }
   ],
   "source": [
    "print(fin_gen)"
   ]
  },
  {
   "cell_type": "code",
   "execution_count": 4,
   "id": "90fdaf6d-06a6-4164-8dab-46f4648abb0e",
   "metadata": {},
   "outputs": [
    {
     "name": "stdout",
     "output_type": "stream",
     "text": [
      "start generation...\n",
      "end of generation.\n",
      "[0, 2, 4, 6, 8, 10, 12, 14, 16, 18]\n"
     ]
    }
   ],
   "source": [
    "l = list(fin_gen)\n",
    "print(l)"
   ]
  },
  {
   "cell_type": "code",
   "execution_count": 7,
   "id": "7caf1d1c-fc95-4059-ac86-b9142fce0067",
   "metadata": {},
   "outputs": [
    {
     "ename": "StopIteration",
     "evalue": "",
     "output_type": "error",
     "traceback": [
      "\u001b[0;31m---------------------------------------------------------------------------\u001b[0m",
      "\u001b[0;31mStopIteration\u001b[0m                             Traceback (most recent call last)",
      "Cell \u001b[0;32mIn[7], line 5\u001b[0m\n\u001b[1;32m      1\u001b[0m \u001b[38;5;66;03m# Generators are one-time use\u001b[39;00m\n\u001b[1;32m      2\u001b[0m \u001b[38;5;66;03m# when the generator hit return, \u001b[39;00m\n\u001b[1;32m      3\u001b[0m \u001b[38;5;66;03m# iteration stops and the generator is \"consumed\"\u001b[39;00m\n\u001b[0;32m----> 5\u001b[0m \u001b[38;5;28;43mnext\u001b[39;49m\u001b[43m(\u001b[49m\u001b[43mfin_gen\u001b[49m\u001b[43m)\u001b[49m\n",
      "\u001b[0;31mStopIteration\u001b[0m: "
     ]
    }
   ],
   "source": [
    "# Generators are one-time use\n",
    "# when the generator hit return, \n",
    "# iteration stops and the generator is \"consumed\"\n",
    "\n",
    "next(fin_gen)"
   ]
  },
  {
   "cell_type": "code",
   "execution_count": 8,
   "id": "546a3dc3-aea1-4709-afe4-4efa4c42d846",
   "metadata": {},
   "outputs": [
    {
     "name": "stdout",
     "output_type": "stream",
     "text": [
      "start generation...\n",
      "0\n"
     ]
    }
   ],
   "source": [
    "fin_gen = finite_generator(n=10)\n",
    "print(next(fin_gen))"
   ]
  },
  {
   "cell_type": "code",
   "execution_count": 9,
   "id": "01e2ab63-1865-4490-8eef-37dab343eaad",
   "metadata": {},
   "outputs": [
    {
     "name": "stdout",
     "output_type": "stream",
     "text": [
      "2\n"
     ]
    }
   ],
   "source": [
    "print(next(fin_gen))"
   ]
  },
  {
   "cell_type": "code",
   "execution_count": 10,
   "id": "b2980f35-ac44-4dae-8692-685130084a5d",
   "metadata": {},
   "outputs": [
    {
     "name": "stdout",
     "output_type": "stream",
     "text": [
      "start generation...\n",
      "0\n",
      "2\n",
      "4\n",
      "6\n",
      "8\n",
      "10\n",
      "12\n",
      "14\n",
      "16\n",
      "18\n",
      "end of generation.\n"
     ]
    },
    {
     "ename": "StopIteration",
     "evalue": "",
     "output_type": "error",
     "traceback": [
      "\u001b[0;31m---------------------------------------------------------------------------\u001b[0m",
      "\u001b[0;31mStopIteration\u001b[0m                             Traceback (most recent call last)",
      "Cell \u001b[0;32mIn[10], line 7\u001b[0m\n\u001b[1;32m      4\u001b[0m         e \u001b[38;5;241m=\u001b[39m \u001b[38;5;28mnext\u001b[39m(fin_gen)\n\u001b[1;32m      5\u001b[0m         \u001b[38;5;28mprint\u001b[39m(e)\n\u001b[0;32m----> 7\u001b[0m \u001b[43mf\u001b[49m\u001b[43m(\u001b[49m\u001b[43m)\u001b[49m\n",
      "Cell \u001b[0;32mIn[10], line 4\u001b[0m, in \u001b[0;36mf\u001b[0;34m()\u001b[0m\n\u001b[1;32m      2\u001b[0m fin_gen \u001b[38;5;241m=\u001b[39m finite_generator(n\u001b[38;5;241m=\u001b[39m\u001b[38;5;241m10\u001b[39m)\n\u001b[1;32m      3\u001b[0m \u001b[38;5;28;01mwhile\u001b[39;00m \u001b[38;5;28;01mTrue\u001b[39;00m:\n\u001b[0;32m----> 4\u001b[0m     e \u001b[38;5;241m=\u001b[39m \u001b[38;5;28;43mnext\u001b[39;49m\u001b[43m(\u001b[49m\u001b[43mfin_gen\u001b[49m\u001b[43m)\u001b[49m\n\u001b[1;32m      5\u001b[0m     \u001b[38;5;28mprint\u001b[39m(e)\n",
      "\u001b[0;31mStopIteration\u001b[0m: "
     ]
    }
   ],
   "source": [
    "def f():\n",
    "    fin_gen = finite_generator(n=10)\n",
    "    while True:\n",
    "        e = next(fin_gen)\n",
    "        print(e)\n",
    "\n",
    "f()"
   ]
  },
  {
   "cell_type": "code",
   "execution_count": 11,
   "id": "7160dbc7-d2d4-43ca-bf3d-7c2f5326d7bc",
   "metadata": {},
   "outputs": [],
   "source": [
    "def infinite_generator() -> Iterable[int]:\n",
    "    \"\"\"\n",
    "    Generate the infinite sequence of even numbers \n",
    "    \"\"\"\n",
    "\n",
    "    i = 0\n",
    "    while True:\n",
    "        if i % 2 == 0:\n",
    "            yield i\n",
    "        i += 1\n"
   ]
  },
  {
   "cell_type": "code",
   "execution_count": 12,
   "id": "a713e42e-ec85-422d-b506-8412a98f18bf",
   "metadata": {},
   "outputs": [],
   "source": [
    "inf_gen = infinite_generator()"
   ]
  },
  {
   "cell_type": "code",
   "execution_count": 13,
   "id": "6323b09a-9f22-4307-bb4f-0c9efd46e4c9",
   "metadata": {},
   "outputs": [
    {
     "data": {
      "text/plain": [
       "[0, 2, 4, 6, 8, 10, 12, 14, 16, 18]"
      ]
     },
     "execution_count": 13,
     "metadata": {},
     "output_type": "execute_result"
    }
   ],
   "source": [
    "[next(inf_gen) for _ in range(10)]"
   ]
  },
  {
   "cell_type": "code",
   "execution_count": 21,
   "id": "271f03ff-edd2-476e-ac85-fc5836d0a747",
   "metadata": {},
   "outputs": [
    {
     "data": {
      "text/plain": [
       "34"
      ]
     },
     "execution_count": 21,
     "metadata": {},
     "output_type": "execute_result"
    }
   ],
   "source": [
    "next(inf_gen)"
   ]
  },
  {
   "cell_type": "markdown",
   "id": "e89eb0f2cc4d55bb",
   "metadata": {
    "collapsed": false,
    "jupyter": {
     "outputs_hidden": false
    }
   },
   "source": [
    "# Simpy"
   ]
  },
  {
   "cell_type": "markdown",
   "id": "aa1634d30f5accb2",
   "metadata": {
    "collapsed": false,
    "jupyter": {
     "outputs_hidden": false
    }
   },
   "source": [
    "main reference: [Simpy documentation](https://simpy.readthedocs.io/en/latest/)\n",
    "\n",
    "Simpy is a process-based discrete-event simulation framework based on standard Python.\n",
    "\n",
    "It provides the modeler with components for building models of simulation systems.\n",
    "\n",
    "It is event-based, and the simulation time is advanced by the occurrence of events.\n",
    "\n",
    "The main components of Simpy are:\n",
    " - **Environment**: the container for the simulation\n",
    " - **Processes**: the active components of the simulation\n",
    " - **Resources**: the shared entities that processes can use to coordinate access to limited capacity entities\n",
    " - **Events**: the occurrences that drive the simulation forward\n",
    "\n",
    "The simulation is driven by the **occurrence of events**, which are **scheduled** and processed **by the environment**.\n",
    "\n",
    "The environment schedules and triggers the events, and manages the simulation time.\n",
    "\n",
    "The resources are used by processes to coordinate access to shared entities with limited capacity.\n",
    "\n",
    "The simulation ends when there are no more events to process."
   ]
  },
  {
   "cell_type": "markdown",
   "id": "d63f13f5-6bd3-4bd1-9f76-55dc1668c14c",
   "metadata": {},
   "source": [
    "# First Simpy process"
   ]
  },
  {
   "cell_type": "markdown",
   "id": "483be907-5f36-41ea-933d-1bac6eb796ee",
   "metadata": {},
   "source": [
    "Our first example will be a car process. \n",
    "\n",
    "The car will alternately drive and park for a while. \n",
    "\n",
    "When it starts driving (or parking), it will print the current simulation time."
   ]
  },
  {
   "cell_type": "code",
   "execution_count": 22,
   "id": "71f2bbf4-5c97-4462-bb86-10c938595c34",
   "metadata": {},
   "outputs": [],
   "source": [
    "def car(env):\n",
    "\n",
    "    # Eternal process (infinite generator, i.e. No return)\n",
    "    while True:\n",
    "        \n",
    "        print(f'Start parking at {env.now}')\n",
    "        parking_duration = 5\n",
    "        yield env.timeout(parking_duration)\n",
    "        \n",
    "        print(f'Start driving at {env.now}')\n",
    "        trip_duration = 2\n",
    "        yield env.timeout(trip_duration)\n"
   ]
  },
  {
   "cell_type": "code",
   "execution_count": 30,
   "id": "166706c0-7285-432a-84c5-e591e8dde97b",
   "metadata": {},
   "outputs": [],
   "source": [
    "env = simpy.Environment()\n",
    "car_inst = car(env)\n",
    "proc = env.process(car_inst)"
   ]
  },
  {
   "cell_type": "code",
   "execution_count": 31,
   "id": "0100cfc4-882c-4886-b3f4-602505b1aa16",
   "metadata": {},
   "outputs": [
    {
     "data": {
      "text/plain": [
       "generator"
      ]
     },
     "execution_count": 31,
     "metadata": {},
     "output_type": "execute_result"
    }
   ],
   "source": [
    "type(car_inst)"
   ]
  },
  {
   "cell_type": "code",
   "execution_count": 32,
   "id": "940d903b-b57f-45c2-994e-9f32c87c98e0",
   "metadata": {},
   "outputs": [
    {
     "data": {
      "text/plain": [
       "simpy.events.Process"
      ]
     },
     "execution_count": 32,
     "metadata": {},
     "output_type": "execute_result"
    }
   ],
   "source": [
    "type(proc)"
   ]
  },
  {
   "cell_type": "code",
   "execution_count": 33,
   "id": "a90d575e-d31e-443b-bf64-e5f294fa2d37",
   "metadata": {},
   "outputs": [
    {
     "name": "stdout",
     "output_type": "stream",
     "text": [
      "Start parking at 0\n",
      "Start driving at 5\n",
      "Start parking at 7\n",
      "Start driving at 12\n",
      "Start parking at 14\n"
     ]
    }
   ],
   "source": [
    "# run the simulation until timestep 15\n",
    "env.run(until=15)"
   ]
  },
  {
   "cell_type": "code",
   "execution_count": 34,
   "id": "78da469c-3b65-4ddc-b1d4-521fe4fbb0f5",
   "metadata": {},
   "outputs": [
    {
     "name": "stdout",
     "output_type": "stream",
     "text": [
      "Start driving at 19\n",
      "Start parking at 21\n",
      "Start driving at 26\n",
      "Start parking at 28\n"
     ]
    }
   ],
   "source": [
    "# resume the simulation and run until timestep 15\n",
    "env.run(until=30)"
   ]
  },
  {
   "cell_type": "markdown",
   "id": "f7603850-d884-43b3-b513-b443694bb5b2",
   "metadata": {},
   "source": [
    "# Process interaction"
   ]
  },
  {
   "cell_type": "markdown",
   "id": "ed1a0f2b-bf86-4e5d-b5a5-599cb13bd528",
   "metadata": {},
   "source": [
    "Processes can **interact** with each other.\n",
    "\n",
    "Examples:\n",
    " - **waiting** for another process to finish\n",
    " - **interrupting** another process\n",
    "\n",
    "In Simpy, processes are technically **events**. Their duration depends on the process implementation."
   ]
  },
  {
   "cell_type": "markdown",
   "id": "f4cf444580baccd3",
   "metadata": {
    "collapsed": false,
    "jupyter": {
     "outputs_hidden": false
    }
   },
   "source": [
    "## Waiting for a process to finish"
   ]
  },
  {
   "cell_type": "code",
   "execution_count": 35,
   "id": "913b21dc-fad0-40c2-9c45-5795fd4808a3",
   "metadata": {},
   "outputs": [],
   "source": [
    "class Car:\n",
    "    def __init__(self, env):\n",
    "        self.env = env\n",
    "        \n",
    "        # Start the run process everytime an instance is created.\n",
    "        self.action = env.process(self.run())\n",
    "\n",
    "    def run(self) -> Generator[simpy.events.Event, None, None]:\n",
    "\n",
    "        # Eternal process (infinite generator, i.e. No return)\n",
    "        while True:\n",
    "        \n",
    "            print('Start parking and charging at %d' % self.env.now)\n",
    "            \n",
    "            # We yield the process that process() returns\n",
    "            # to wait for it to finish\n",
    "            \n",
    "            charge_duration: int = 5\n",
    "            yield self.env.process(self.charge(charge_duration))\n",
    "            \n",
    "            # The charge process has finished, \n",
    "            # and we can start driving again.\n",
    "            \n",
    "            print('Start driving at %d' % self.env.now)\n",
    "            \n",
    "            trip_duration = 2\n",
    "            yield self.env.process(self.drive(trip_duration))\n",
    "\n",
    "    def charge(self, duration: float) -> Generator[simpy.events.Event, None, None]:\n",
    "        yield self.env.timeout(duration)\n",
    "\n",
    "    def drive(self, duration: float) -> Generator[simpy.events.Event, None, None]:\n",
    "        yield self.env.timeout(duration)\n"
   ]
  },
  {
   "cell_type": "code",
   "execution_count": 36,
   "id": "139250fd-b538-4306-b458-2792b05f24ea",
   "metadata": {},
   "outputs": [
    {
     "name": "stdout",
     "output_type": "stream",
     "text": [
      "Start parking and charging at 0\n",
      "Start driving at 5\n",
      "Start parking and charging at 7\n",
      "Start driving at 12\n",
      "Start parking and charging at 14\n"
     ]
    }
   ],
   "source": [
    "env = simpy.Environment()\n",
    "car = Car(env)\n",
    "env.run(until=15)"
   ]
  },
  {
   "cell_type": "markdown",
   "id": "a62b4874a5e21ce1",
   "metadata": {
    "collapsed": false,
    "jupyter": {
     "outputs_hidden": false
    }
   },
   "source": [
    "## Interrupting a process"
   ]
  },
  {
   "cell_type": "code",
   "execution_count": 37,
   "id": "efecedb7fcaf1ab7",
   "metadata": {
    "collapsed": false,
    "jupyter": {
     "outputs_hidden": false
    }
   },
   "outputs": [],
   "source": [
    "class Car:\n",
    "    def __init__(self, env: simpy.Environment, charge_duration: float = 5, trip_duration: float = 2) -> None:\n",
    "        self.env = env\n",
    "        self.action = env.process(self.run())\n",
    "        self.charge_duration = charge_duration\n",
    "        self.trip_duration = trip_duration\n",
    "    \n",
    "    def run(self) -> Generator[simpy.events.Event, None, None]:\n",
    "        \n",
    "        # Eternal process (infinite generator, i.e. No return)\n",
    "        while True:\n",
    "            \n",
    "            print('Start parking and charging at %d' % self.env.now)\n",
    "            \n",
    "            # We may get interrupted while charging the battery\n",
    "            try:\n",
    "                yield self.env.process(self.charge())\n",
    "            except simpy.Interrupt:\n",
    "                # When we received an interrupt, we stop charging and\n",
    "                # switch to the \"driving\" state\n",
    "                print('Was interrupted. Hope, the battery is full enough ...')\n",
    "    \n",
    "            print('Start driving at %d' % self.env.now)\n",
    "            yield self.env.process(self.drive())\n",
    "    \n",
    "    def charge(self) -> Generator[simpy.events.Event, None, None]:\n",
    "        yield self.env.timeout(self.charge_duration)\n",
    "\n",
    "    def drive(self) -> Generator[simpy.events.Event, None, None]:\n",
    "        yield self.env.timeout(self.trip_duration)\n",
    "\n",
    "\n",
    "def interrupt_charging(env: simpy.Environment, car: Car):\n",
    "    yield env.timeout(3)\n",
    "    car.action.interrupt()\n"
   ]
  },
  {
   "cell_type": "code",
   "execution_count": 38,
   "id": "cf8526a067f283f4",
   "metadata": {
    "collapsed": false,
    "jupyter": {
     "outputs_hidden": false
    }
   },
   "outputs": [
    {
     "name": "stdout",
     "output_type": "stream",
     "text": [
      "Start parking and charging at 0\n",
      "Was interrupted. Hope, the battery is full enough ...\n",
      "Start driving at 3\n",
      "Start parking and charging at 5\n",
      "Start driving at 10\n",
      "Start parking and charging at 12\n"
     ]
    }
   ],
   "source": [
    "env = simpy.Environment()\n",
    "car = Car(env)\n",
    "env.process(interrupt_charging(env, car))\n",
    "env.run(until=15)"
   ]
  },
  {
   "cell_type": "markdown",
   "id": "ecb4dfdf0f6bb0e",
   "metadata": {
    "collapsed": false,
    "jupyter": {
     "outputs_hidden": false
    }
   },
   "source": [
    "# Shared resources\n",
    "\n",
    "Simpy *resources* are simulation components that can be used by processes to coordinate access to *shared* simulation entites with **limited capacity**."
   ]
  },
  {
   "cell_type": "markdown",
   "id": "aded65898bc0f7c0",
   "metadata": {
    "collapsed": false,
    "jupyter": {
     "outputs_hidden": false
    }
   },
   "source": [
    "## Basic Resource Usage"
   ]
  },
  {
   "cell_type": "code",
   "execution_count": 42,
   "id": "a87c23d18f70b80d",
   "metadata": {
    "collapsed": false,
    "jupyter": {
     "outputs_hidden": false
    }
   },
   "outputs": [],
   "source": [
    "class Logger:\n",
    "    last_timestamp: float\n",
    "    \n",
    "    def __init__(self, env: simpy.Environment) -> None:\n",
    "        self.env = env\n",
    "        Logger.last_timestamp = self.env.now\n",
    "    \n",
    "    def log(self, message: str):\n",
    "        if self.env.now > Logger.last_timestamp:\n",
    "            print()\n",
    "\n",
    "        print(f'[{self.env.now}] {message}')\n",
    "        Logger.last_timestamp = self.env.now\n",
    "\n",
    "class Car:\n",
    "    def __init__(self, env: simpy.Environment, i: int, bcs: simpy.Resource) -> None:\n",
    "        self.env = env\n",
    "        self.name = f'Car {i}'\n",
    "        self.color = f'\\033[9{i+1}m'\n",
    "        self.bcs = bcs\n",
    "        self.logger = Logger(self.env)\n",
    "        \n",
    "        # Start the run process everytime an instance is created.\n",
    "        self.action = env.process(self.run())\n",
    "\n",
    "    def __str__(self):\n",
    "        return f\"{self.color}{self.name}\\033[0m\"\n",
    "\n",
    "    def run(self) -> Generator[simpy.events.Event, None, None]:\n",
    "        while True:\n",
    "            # Generate a request to use the bcs\n",
    "            # If the resource is already in use, \n",
    "            # the process will be put in queue until the resource is available\n",
    "            \n",
    "            self.logger.log(f'{self} requesting the battery charging station')\n",
    "            \n",
    "            # context manager\n",
    "            # see Python Mastery pdf, page 217\n",
    "            with self.bcs.request() as req:\n",
    "                \n",
    "                # Waiting for the bcs to become available\n",
    "                yield req\n",
    "                \n",
    "                yield self.env.process(self.charge(duration=5))\n",
    "                \n",
    "            yield self.env.process(self.drive(duration=2))\n",
    "                \n",
    "    def charge(self, duration: float) -> Generator[simpy.events.Event, None, None]:\n",
    "        self.logger.log(f'{self} starting to charge')\n",
    "        yield self.env.timeout(duration)\n",
    "        self.logger.log(f'{self} leaving the battery charging station')\n",
    "    \n",
    "    def drive(self, duration: float) -> Generator[simpy.events.Event, None, None]:\n",
    "        self.logger.log(f'{self} starting to drive')\n",
    "        yield self.env.timeout(duration)\n",
    "        # self.logger.log(f'{self} leaving the battery charging station')\n"
   ]
  },
  {
   "cell_type": "code",
   "execution_count": 43,
   "id": "e58a51e8ca10aa9e",
   "metadata": {
    "collapsed": false,
    "jupyter": {
     "outputs_hidden": false
    }
   },
   "outputs": [],
   "source": [
    "env = simpy.Environment()\n",
    "battery_charging_station = simpy.Resource(env, capacity=2)\n",
    "\n",
    "cars = [Car(env, i, battery_charging_station) for i in range(4)]"
   ]
  },
  {
   "cell_type": "code",
   "execution_count": 44,
   "id": "2ae9198bea991ed9",
   "metadata": {
    "collapsed": false,
    "jupyter": {
     "outputs_hidden": false
    }
   },
   "outputs": [
    {
     "name": "stdout",
     "output_type": "stream",
     "text": [
      "[0] \u001b[91mCar 0\u001b[0m requesting the battery charging station\n",
      "[0] \u001b[92mCar 1\u001b[0m requesting the battery charging station\n",
      "[0] \u001b[93mCar 2\u001b[0m requesting the battery charging station\n",
      "[0] \u001b[94mCar 3\u001b[0m requesting the battery charging station\n",
      "[0] \u001b[91mCar 0\u001b[0m starting to charge\n",
      "[0] \u001b[92mCar 1\u001b[0m starting to charge\n",
      "\n",
      "[5] \u001b[91mCar 0\u001b[0m leaving the battery charging station\n",
      "[5] \u001b[92mCar 1\u001b[0m leaving the battery charging station\n",
      "[5] \u001b[91mCar 0\u001b[0m starting to drive\n",
      "[5] \u001b[92mCar 1\u001b[0m starting to drive\n",
      "[5] \u001b[93mCar 2\u001b[0m starting to charge\n",
      "[5] \u001b[94mCar 3\u001b[0m starting to charge\n",
      "\n",
      "[7] \u001b[91mCar 0\u001b[0m requesting the battery charging station\n",
      "[7] \u001b[92mCar 1\u001b[0m requesting the battery charging station\n",
      "\n",
      "[10] \u001b[93mCar 2\u001b[0m leaving the battery charging station\n",
      "[10] \u001b[94mCar 3\u001b[0m leaving the battery charging station\n",
      "[10] \u001b[93mCar 2\u001b[0m starting to drive\n",
      "[10] \u001b[94mCar 3\u001b[0m starting to drive\n",
      "[10] \u001b[91mCar 0\u001b[0m starting to charge\n",
      "[10] \u001b[92mCar 1\u001b[0m starting to charge\n",
      "\n",
      "[12] \u001b[93mCar 2\u001b[0m requesting the battery charging station\n",
      "[12] \u001b[94mCar 3\u001b[0m requesting the battery charging station\n",
      "\n",
      "[15] \u001b[91mCar 0\u001b[0m leaving the battery charging station\n",
      "[15] \u001b[92mCar 1\u001b[0m leaving the battery charging station\n",
      "[15] \u001b[91mCar 0\u001b[0m starting to drive\n",
      "[15] \u001b[92mCar 1\u001b[0m starting to drive\n",
      "[15] \u001b[93mCar 2\u001b[0m starting to charge\n",
      "[15] \u001b[94mCar 3\u001b[0m starting to charge\n",
      "\n",
      "[17] \u001b[91mCar 0\u001b[0m requesting the battery charging station\n",
      "[17] \u001b[92mCar 1\u001b[0m requesting the battery charging station\n",
      "\n",
      "[20] \u001b[93mCar 2\u001b[0m leaving the battery charging station\n",
      "[20] \u001b[94mCar 3\u001b[0m leaving the battery charging station\n",
      "[20] \u001b[93mCar 2\u001b[0m starting to drive\n",
      "[20] \u001b[94mCar 3\u001b[0m starting to drive\n",
      "[20] \u001b[91mCar 0\u001b[0m starting to charge\n",
      "[20] \u001b[92mCar 1\u001b[0m starting to charge\n",
      "\n",
      "[22] \u001b[93mCar 2\u001b[0m requesting the battery charging station\n",
      "[22] \u001b[94mCar 3\u001b[0m requesting the battery charging station\n",
      "\n",
      "[25] \u001b[91mCar 0\u001b[0m leaving the battery charging station\n",
      "[25] \u001b[92mCar 1\u001b[0m leaving the battery charging station\n",
      "[25] \u001b[91mCar 0\u001b[0m starting to drive\n",
      "[25] \u001b[92mCar 1\u001b[0m starting to drive\n",
      "[25] \u001b[93mCar 2\u001b[0m starting to charge\n",
      "[25] \u001b[94mCar 3\u001b[0m starting to charge\n",
      "\n",
      "[27] \u001b[91mCar 0\u001b[0m requesting the battery charging station\n",
      "[27] \u001b[92mCar 1\u001b[0m requesting the battery charging station\n"
     ]
    }
   ],
   "source": [
    "env.run(until=30)"
   ]
  },
  {
   "cell_type": "code",
   "execution_count": null,
   "id": "0905756d-0f0a-4fa2-adc2-a8440273125c",
   "metadata": {},
   "outputs": [],
   "source": []
  }
 ],
 "metadata": {
  "kernelspec": {
   "display_name": "Python 3 (ipykernel)",
   "language": "python",
   "name": "python3"
  },
  "language_info": {
   "codemirror_mode": {
    "name": "ipython",
    "version": 3
   },
   "file_extension": ".py",
   "mimetype": "text/x-python",
   "name": "python",
   "nbconvert_exporter": "python",
   "pygments_lexer": "ipython3",
   "version": "3.12.6"
  }
 },
 "nbformat": 4,
 "nbformat_minor": 5
}
