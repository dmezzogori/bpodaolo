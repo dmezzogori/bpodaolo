{
 "cells": [
  {
   "cell_type": "code",
   "execution_count": 1,
   "id": "initial_id",
   "metadata": {
    "ExecuteTime": {
     "end_time": "2024-03-13T10:29:30.192680Z",
     "start_time": "2024-03-13T10:29:29.582814Z"
    }
   },
   "outputs": [],
   "source": [
    "from __future__ import annotations\n",
    "\n",
    "from collections import defaultdict\n",
    "from collections.abc import Iterable, Generator\n",
    "\n",
    "from simpy.resources.resource import Request, Release\n",
    "\n",
    "import matplotlib.pyplot as plt\n",
    "import random\n",
    "import simpy\n",
    "import statistics"
   ]
  },
  {
   "cell_type": "code",
   "execution_count": 2,
   "id": "de0bc521151e8b87",
   "metadata": {
    "ExecuteTime": {
     "end_time": "2024-03-13T10:29:30.196719Z",
     "start_time": "2024-03-13T10:29:30.193799Z"
    },
    "collapsed": false,
    "jupyter": {
     "outputs_hidden": false
    }
   },
   "outputs": [],
   "source": [
    "class Customer:\n",
    "    def __init__(self, env: simpy.Environment, bank: Bank, arrival_time: float, service_time: float) -> None:\n",
    "        self.env = env\n",
    "        self.bank = bank\n",
    "        self.arrival_time: float = arrival_time\n",
    "        self.service_time: float = service_time\n",
    "       \n",
    "        self.delay: float | None = None\n",
    "\n",
    "    def main(self):\n",
    "\n",
    "        # Request the cashier\n",
    "        with self.bank.cashier.request() as request:\n",
    "            \n",
    "            # Record the time the customer joined the queue\n",
    "            queue_entry_time = self.env.now\n",
    "            \n",
    "            # Wait for the cashier to become available\n",
    "            yield request\n",
    "\n",
    "            # Record the time the customer left the queue\n",
    "            queue_exit_time = self.env.now\n",
    "            \n",
    "            # Calculate the time the customer spent waiting in the queue\n",
    "            self.delay = queue_exit_time - queue_entry_time\n",
    "\n",
    "            # Wait for the cashier to process the customer\n",
    "            yield self.env.process(self.bank.cashier.process_customer(self))\n"
   ]
  },
  {
   "cell_type": "code",
   "execution_count": 3,
   "id": "821f17b958fe38f7",
   "metadata": {
    "ExecuteTime": {
     "end_time": "2024-03-13T10:29:30.204685Z",
     "start_time": "2024-03-13T10:29:30.197478Z"
    },
    "collapsed": false,
    "jupyter": {
     "outputs_hidden": false
    }
   },
   "outputs": [],
   "source": [
    "class Cashier(simpy.Resource):\n",
    "    def __init__(self, env: simpy.Environment, capacity: int) -> None:\n",
    "        super().__init__(env, capacity)\n",
    "        self.env = env\n",
    "        self.queue_history: dict[int, float] = defaultdict(float)\n",
    "        self.qt: list[tuple[float, int]] = []\n",
    "        self.ut: list[tuple[float, int]] = [(0, 0)]\n",
    "        \n",
    "        self.last_queue_level: int = 0\n",
    "        self.last_queue_level_timestamp: float = 0\n",
    "        \n",
    "        self.worked_time: float = 0\n",
    "    \n",
    "    @property\n",
    "    def average_queue_length(self) -> float:\n",
    "        return sum(queue_length * time for queue_length, time in self.queue_history.items()) / self.env.now\n",
    "    \n",
    "    @property\n",
    "    def utilization_rate(self) -> float:\n",
    "        return self.worked_time / self.env.now\n",
    "    \n",
    "    def _update_qt(self) -> None:\n",
    "        self.qt.append((self.env.now, len(self.queue)))\n",
    "    \n",
    "    def _update_ut(self) -> None:\n",
    "        status = int(self.count == 1 or len(self.queue) > 0)\n",
    "        if self.ut and self.ut[-1][1] == status:\n",
    "            return\n",
    "        self.ut.append((self.env.now, status))\n",
    "    \n",
    "    def _update_queue_history(self, _) -> None:\n",
    "        self.queue_history[self.last_queue_level] += self.env.now - self.last_queue_level_timestamp\n",
    "        self.last_queue_level_timestamp = self.env.now\n",
    "        self.last_queue_level = len(self.queue)\n",
    "        self._update_qt()\n",
    "    \n",
    "    def request(self) -> Request:\n",
    "        request = super().request()\n",
    "        self._update_queue_history(None)\n",
    "        \n",
    "        request.callbacks.append(self._update_queue_history)\n",
    "        return request\n",
    "    \n",
    "    def release(self, request: Request) -> Release:\n",
    "        release = super().release(request)\n",
    "        self._update_ut()\n",
    "        return release\n",
    "    \n",
    "    def process_customer(self, customer: Customer) -> Generator[simpy.Event, None, None]:\n",
    "        yield self.env.timeout(customer.service_time)\n",
    "        self.worked_time += customer.service_time\n",
    "        \n",
    "    def plot_qt(self) -> None:\n",
    "        x, y = zip(*self.qt)\n",
    "        plt.step(x, y, where='pre')\n",
    "        plt.fill_between(x, y, step='pre', alpha=1.0)\n",
    "        plt.title('Q(t): Queue length over time')\n",
    "        plt.xlabel('Simulation Time')\n",
    "        plt.ylabel('Queue Length')\n",
    "        plt.show()\n",
    "    \n",
    "    def plot_ut(self) -> None:\n",
    "        ut = self.ut + [(self.env.now, self.ut[-1][1])]\n",
    "        x, y = zip(*ut)\n",
    "        plt.step(x, y, where='post')\n",
    "        plt.fill_between(x, y, step='post', alpha=1.0)\n",
    "        plt.title('U(t): Cashier utilization over time')\n",
    "        plt.xlabel('Simulation Time')\n",
    "        plt.ylabel('Utilization rate')\n",
    "        plt.show()\n"
   ]
  },
  {
   "cell_type": "code",
   "execution_count": 4,
   "id": "96e53e5235f60450",
   "metadata": {
    "ExecuteTime": {
     "end_time": "2024-03-13T10:29:30.209361Z",
     "start_time": "2024-03-13T10:29:30.205520Z"
    },
    "collapsed": false,
    "jupyter": {
     "outputs_hidden": false
    }
   },
   "outputs": [],
   "source": [
    "class Bank:\n",
    "    def __init__(self, env: simpy.Environment, customer_arrival_rate: float, customer_average_processing_time: float) -> None:\n",
    "        self.env = env\n",
    "        self.cashier = Cashier(env, capacity=1)\n",
    "        self.customer_arrival_rate = customer_arrival_rate                          # [customers/minute]\n",
    "        self.customer_average_processing_time = customer_average_processing_time    # [minutes/customer]\n",
    "        \n",
    "        self.customers_inter_arrival_times: list[float] = []\n",
    "        self.customers: list[Customer] = []\n",
    "    \n",
    "    @property\n",
    "    def customer_service_times(self) -> Iterable[float]:\n",
    "        for customer in self.customers:\n",
    "            yield customer.service_time\n",
    "    \n",
    "    @property\n",
    "    def customer_delay_times(self) -> Iterable[float]:\n",
    "        for customer in self.customers:\n",
    "            if customer.delay is not None:\n",
    "                yield customer.delay\n",
    "    \n",
    "    def run(self):\n",
    "        while True:\n",
    "            \n",
    "            # Exponential distribution\n",
    "            # λ = 1 / mean, where λ is the rate parameter [customers/minute]\n",
    "            # mean := average delta time from one customer to the next (in minutes)\n",
    "            customer_inter_arrival_time = random.expovariate(lambd=self.customer_arrival_rate)\n",
    "            self.customers_inter_arrival_times.append(customer_inter_arrival_time)\n",
    "            \n",
    "            # Exponential distribution\n",
    "            # λ = 1 / mean, where λ is the rate parameter [customers/minute]\n",
    "            # mean := average processing time for a customer (in minutes)\n",
    "            customer_service_time = random.expovariate(1/self.customer_average_processing_time)\n",
    "            \n",
    "            # Wait for the next customer to arrive\n",
    "            yield self.env.timeout(customer_inter_arrival_time)\n",
    "            \n",
    "            # Generate a new customer\n",
    "            customer = Customer(\n",
    "                env=self.env,\n",
    "                bank=self,\n",
    "                arrival_time=self.env.now,\n",
    "                service_time=customer_service_time\n",
    "            )\n",
    "            self.customers.append(customer)\n",
    "            \n",
    "            self.env.process(customer.main())\n"
   ]
  },
  {
   "cell_type": "code",
   "execution_count": 5,
   "id": "447d84d18824bb5f",
   "metadata": {
    "ExecuteTime": {
     "end_time": "2024-03-13T10:29:31.018906Z",
     "start_time": "2024-03-13T10:29:30.210881Z"
    },
    "collapsed": false,
    "jupyter": {
     "outputs_hidden": false
    }
   },
   "outputs": [],
   "source": [
    "seed = 42\n",
    "random.seed(seed)\n",
    "\n",
    "env = simpy.Environment()\n",
    "bank = Bank(\n",
    "    env, \n",
    "    customer_arrival_rate=4,                # n customers/minute        -->     1/n minutes/customer\n",
    "    customer_average_processing_time=1/5    # 1/n minutes/customer      -->     n customers/minute\n",
    ")\n",
    "env.process(bank.run())\n",
    "env.run(until=60 * 24 * 10)  # minutes"
   ]
  },
  {
   "cell_type": "markdown",
   "id": "9d6e3acf8cb38d82",
   "metadata": {
    "collapsed": false,
    "jupyter": {
     "outputs_hidden": false
    }
   },
   "source": [
    "## Average inter-arrival time E[1/λ]"
   ]
  },
  {
   "cell_type": "code",
   "execution_count": 6,
   "id": "6c8ebf52c373459f",
   "metadata": {
    "ExecuteTime": {
     "end_time": "2024-03-13T10:29:31.233028Z",
     "start_time": "2024-03-13T10:29:31.019866Z"
    },
    "collapsed": false,
    "jupyter": {
     "outputs_hidden": false
    }
   },
   "outputs": [
    {
     "name": "stdout",
     "output_type": "stream",
     "text": [
      "Average Customer Inter-arrival time = 0.25 minutes\n"
     ]
    },
    {
     "data": {
      "image/png": "[encoded data removed]",
      "text/plain": [
       "<Figure size 640x480 with 1 Axes>"
      ]
     },
     "metadata": {},
     "output_type": "display_data"
    }
   ],
   "source": [
    "average_customer_inter_arrival_time = statistics.mean(bank.customers_inter_arrival_times)\n",
    "print(f\"Average Customer Inter-arrival time = {average_customer_inter_arrival_time:.2f} minutes\")\n",
    "plt.hist(bank.customers_inter_arrival_times, bins=50)\n",
    "plt.title('Inter-arrival time distribution')\n",
    "plt.show()"
   ]
  },
  {
   "cell_type": "markdown",
   "id": "f2d9d95fb853d530",
   "metadata": {
    "collapsed": false,
    "jupyter": {
     "outputs_hidden": false
    }
   },
   "source": [
    "## Average service time E[S]"
   ]
  },
  {
   "cell_type": "code",
   "execution_count": 7,
   "id": "ea645263f7011a7d",
   "metadata": {
    "ExecuteTime": {
     "end_time": "2024-03-13T10:29:31.415294Z",
     "start_time": "2024-03-13T10:29:31.233910Z"
    },
    "collapsed": false,
    "jupyter": {
     "outputs_hidden": false
    }
   },
   "outputs": [
    {
     "name": "stdout",
     "output_type": "stream",
     "text": [
      "Average Customer service time = 0.20 minutes\n"
     ]
    },
    {
     "data": {
      "image/png": "[encoded data removed]",
      "text/plain": [
       "<Figure size 640x480 with 1 Axes>"
      ]
     },
     "metadata": {},
     "output_type": "display_data"
    }
   ],
   "source": [
    "average_customer_service_time = statistics.mean(bank.customer_service_times)\n",
    "print(f\"Average Customer service time = {average_customer_service_time:.2f} minutes\")\n",
    "plt.hist(list(bank.customer_service_times), bins=50)\n",
    "plt.title('Service time distribution')\n",
    "plt.show()"
   ]
  },
  {
   "cell_type": "markdown",
   "id": "b9002c3af884dc47",
   "metadata": {
    "collapsed": false,
    "jupyter": {
     "outputs_hidden": false
    }
   },
   "source": [
    "## Average delay time E[D]"
   ]
  },
  {
   "cell_type": "code",
   "execution_count": 8,
   "id": "aed21b54f73e6e93",
   "metadata": {
    "ExecuteTime": {
     "end_time": "2024-03-13T10:29:31.582866Z",
     "start_time": "2024-03-13T10:29:31.416092Z"
    },
    "collapsed": false,
    "jupyter": {
     "outputs_hidden": false
    }
   },
   "outputs": [
    {
     "name": "stdout",
     "output_type": "stream",
     "text": [
      "Average Customer delay time = 0.83 minutes\n"
     ]
    },
    {
     "data": {
      "image/png": "[encoded data removed]",
      "text/plain": [
       "<Figure size 640x480 with 1 Axes>"
      ]
     },
     "metadata": {},
     "output_type": "display_data"
    }
   ],
   "source": [
    "average_customer_delay_time = statistics.mean(bank.customer_delay_times)\n",
    "print(f\"Average Customer delay time = {average_customer_delay_time:.2f} minutes\")\n",
    "plt.hist(list(bank.customer_delay_times), bins=10)\n",
    "plt.title('Customers delay distribution')\n",
    "plt.show()"
   ]
  },
  {
   "cell_type": "markdown",
   "id": "a0145394d093b6ed",
   "metadata": {
    "collapsed": false,
    "jupyter": {
     "outputs_hidden": false
    }
   },
   "source": [
    "## Average number of customers in the queue E[Q]"
   ]
  },
  {
   "cell_type": "code",
   "execution_count": 9,
   "id": "c751de05b703ee80",
   "metadata": {
    "ExecuteTime": {
     "end_time": "2024-03-13T10:29:31.820639Z",
     "start_time": "2024-03-13T10:29:31.583803Z"
    },
    "collapsed": false,
    "jupyter": {
     "outputs_hidden": false
    }
   },
   "outputs": [
    {
     "name": "stdout",
     "output_type": "stream",
     "text": [
      "Average Cashier queue length = 3.30\n"
     ]
    },
    {
     "data": {
      "image/png": "[encoded data removed]",
      "text/plain": [
       "<Figure size 640x480 with 1 Axes>"
      ]
     },
     "metadata": {},
     "output_type": "display_data"
    }
   ],
   "source": [
    "average_cashier_queue_length = bank.cashier.average_queue_length\n",
    "print(f\"Average Cashier queue length = {average_cashier_queue_length:.2f}\")\n",
    "bank.cashier.plot_qt()"
   ]
  },
  {
   "cell_type": "markdown",
   "id": "615f2b825e747cd7",
   "metadata": {
    "collapsed": false,
    "jupyter": {
     "outputs_hidden": false
    }
   },
   "source": [
    "## Server utilization rate E[U]"
   ]
  },
  {
   "cell_type": "code",
   "execution_count": 10,
   "id": "c06a0dfac1e223b6",
   "metadata": {
    "ExecuteTime": {
     "end_time": "2024-03-13T10:29:32.059020Z",
     "start_time": "2024-03-13T10:29:31.823914Z"
    },
    "collapsed": false,
    "jupyter": {
     "outputs_hidden": false
    }
   },
   "outputs": [
    {
     "name": "stdout",
     "output_type": "stream",
     "text": [
      "Average Server Utilization rate = 80.20%\n"
     ]
    },
    {
     "data": {
      "image/png": "[encoded data removed]",
      "text/plain": [
       "<Figure size 640x480 with 1 Axes>"
      ]
     },
     "metadata": {},
     "output_type": "display_data"
    }
   ],
   "source": [
    "average_utilization_rate = bank.cashier.utilization_rate\n",
    "print(f\"Average Server Utilization rate = {average_utilization_rate * 100:.2f}%\")\n",
    "bank.cashier.plot_ut()"
   ]
  },
  {
   "cell_type": "code",
   "execution_count": 14,
   "id": "33ba797d7bac37ff",
   "metadata": {
    "ExecuteTime": {
     "end_time": "2024-03-13T10:31:39.695014Z",
     "start_time": "2024-03-13T10:29:32.059847Z"
    },
    "collapsed": false,
    "jupyter": {
     "outputs_hidden": false
    }
   },
   "outputs": [],
   "source": [
    "random.seed(None)\n",
    "\n",
    "results = []\n",
    "for _ in range(150):\n",
    "    env = simpy.Environment()\n",
    "    bank = Bank(\n",
    "        env, \n",
    "        customer_arrival_rate=4,              # n customers/minute        -->     1/n minutes/customer\n",
    "        customer_average_processing_time=1/5    # 1/n minutes/customer      -->     n customers/minute\n",
    "    )\n",
    "    env.process(bank.run())\n",
    "    env.run(until=60 * 24 * 10)  # minutes\n",
    "    results.append(bank.cashier.average_queue_length)"
   ]
  },
  {
   "cell_type": "code",
   "execution_count": 15,
   "id": "e8f0f1e46dfe3f3d",
   "metadata": {
    "ExecuteTime": {
     "end_time": "2024-03-13T10:31:39.698330Z",
     "start_time": "2024-03-13T10:31:39.695819Z"
    },
    "collapsed": false,
    "jupyter": {
     "outputs_hidden": false
    }
   },
   "outputs": [
    {
     "name": "stdout",
     "output_type": "stream",
     "text": [
      "Average Cashier queue length = 3.19 ± 0.03\n"
     ]
    }
   ],
   "source": [
    "m = statistics.mean(results)\n",
    "s = statistics.stdev(results)\n",
    "\n",
    "moe = 1.96 * s / len(results) ** 0.5\n",
    "\n",
    "print(f\"Average Cashier queue length = {m:.2f} ± {moe:.2f}\")"
   ]
  },
  {
   "cell_type": "code",
   "execution_count": 16,
   "id": "11b2470aeabd20ef",
   "metadata": {
    "ExecuteTime": {
     "end_time": "2024-03-13T10:31:39.703800Z",
     "start_time": "2024-03-13T10:31:39.700995Z"
    },
    "collapsed": false,
    "jupyter": {
     "outputs_hidden": false
    }
   },
   "outputs": [
    {
     "name": "stdout",
     "output_type": "stream",
     "text": [
      "Average Queue Length = 3.20\n"
     ]
    },
    {
     "data": {
      "text/plain": [
       "True"
      ]
     },
     "execution_count": 16,
     "metadata": {},
     "output_type": "execute_result"
    }
   ],
   "source": [
    "ro = 0.8\n",
    "true_average_queue_length = ro ** 2 / (1 - ro)\n",
    "print(f\"Average Queue Length = {true_average_queue_length:.2f}\")\n",
    "m - moe <= true_average_queue_length <= m + moe"
   ]
  },
  {
   "cell_type": "markdown",
   "id": "9d4868661a109cb2",
   "metadata": {
    "collapsed": false,
    "jupyter": {
     "outputs_hidden": false
    }
   },
   "source": [
    "## Banking System with Jockeying\n",
    "\n",
    "Implement a banking queue system with multiple tellers (start with 5 servers) and jockeying.\n",
    "\n",
    "Each teller has a separate queue.\n",
    "\n",
    "An arriving customer joins the shortest queue, choosing the leftmost shortest queue in case of ties.\n",
    "\n",
    "Let n_i be the total number of customers in front of teller i (including customers in queue as well as the customer in service, if any) at a particular instant. \n",
    "\n",
    "If the completion of a customer’s service at teller i causes n_j > n_i + 1 for some other teller j, then the customer from the tail of queue j jockeys (moves) to the tail of queue i.\n",
    "\n",
    "Assume:\n",
    "  - Interarrival times of customers are exponentially distributed with a mean of 1 minute.\n",
    "  - Service times are exponentially distributed with a mean of 4.5 minutes.\n",
    "\n",
    "Measure system performance for systems with 4, 5, 6, and 7 tellers."
   ]
  },
  {
   "cell_type": "markdown",
   "id": "2b56df01f1fafa73",
   "metadata": {
    "collapsed": false,
    "jupyter": {
     "outputs_hidden": false
    }
   },
   "source": [
    "## Banking System with Impatient Customers\n",
    "\n",
    "Implement a banking queue system with single teller and impatient customers.\n",
    "\n",
    "Customers arrive at the bank at an average rate of 5 per minute and are served by a single teller whose service times are exponentially distributed with a mean of 6 minutes.\n",
    "\n",
    "If a customer finds the teller busy, they wait in the queue. However, if the customer waits for more than 10 minutes and the teller is still busy, the customer leaves the bank.\n",
    "\n",
    "Simulate the system and measure the following performance measures:\n",
    "  - Average number of customers in the queue\n",
    "  - Average number of customers who leave the bank without being served"
   ]
  },
  {
   "cell_type": "code",
   "execution_count": null,
   "id": "b8678c2d0c3d726d",
   "metadata": {
    "collapsed": false,
    "jupyter": {
     "outputs_hidden": false
    }
   },
   "outputs": [],
   "source": []
  }
 ],
 "metadata": {
  "kernelspec": {
   "display_name": "Python 3 (ipykernel)",
   "language": "python",
   "name": "python3"
  },
  "language_info": {
   "codemirror_mode": {
    "name": "ipython",
    "version": 3
   },
   "file_extension": ".py",
   "mimetype": "text/x-python",
   "name": "python",
   "nbconvert_exporter": "python",
   "pygments_lexer": "ipython3",
   "version": "3.12.6"
  }
 },
 "nbformat": 4,
 "nbformat_minor": 5
}
