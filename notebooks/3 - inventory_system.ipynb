{
 "cells": [
  {
   "cell_type": "markdown",
   "id": "30030726864ad321",
   "metadata": {
    "collapsed": false,
    "jupyter": {
     "outputs_hidden": false
    }
   },
   "source": [
    "# Inventory System with s, S Policy\n",
    "\n",
    "Simulate an inventory system with s, S policy with discrete review system. \n",
    "\n",
    "The inventory level is checked at regular intervals and an order is placed to bring the inventory level up to S whenever the inventory level drops below s. \n",
    "\n",
    "The order quantity is the difference between S and the inventory level at the time of the review.\n",
    "\n",
    "When demand occurs, it is satisfied immediately if inventory level at least equals the demand size. Otherwise, the demand is backlogged and the inventory level is reduced by the available amount.\n",
    "\n",
    "When delivery occurs, it is used first to satisfy backlogged demand and then to increase the inventory level.\n",
    "\n",
    "Suppose:\n",
    "    - Demand inter-arrival time is exponentially distributed with mean 0.1 months.\n",
    "    - Demand size is 1, 2, 3, or 4 with probability (1/3, 1/6, 1/6, 1/3), respectively.\n",
    "    - Inventory level is 60 at the beginning of the simulation.\n",
    "    - Inventory level is checked every 1 month.\n",
    "    - Lead time is uniformly distributed between 0.5 and 1 month.\n",
    "    - The order setup cost is 32.\n",
    "    - The incremental order cost is 3.\n",
    "    - The holding cost is 1.\n",
    "    - The shortage cost is 5.\n",
    "    \n",
    "Simulate the system for 120 months and calculate the total cost.\n",
    "\n",
    "Compare the cost of the system with different s_min and s_max values.\n"
   ]
  },
  {
   "cell_type": "code",
   "execution_count": 1,
   "id": "initial_id",
   "metadata": {
    "ExecuteTime": {
     "end_time": "2024-03-07T15:05:11.688663Z",
     "start_time": "2024-03-07T15:05:11.228664Z"
    }
   },
   "outputs": [],
   "source": [
    "from collections import defaultdict\n",
    "\n",
    "import matplotlib.pyplot as plt\n",
    "import random\n",
    "import simpy\n",
    "import statistics"
   ]
  },
  {
   "cell_type": "code",
   "execution_count": 2,
   "id": "97a2e2f0f7238b5d",
   "metadata": {
    "ExecuteTime": {
     "end_time": "2024-03-07T15:05:11.698589Z",
     "start_time": "2024-03-07T15:05:11.690766Z"
    },
    "collapsed": false,
    "jupyter": {
     "outputs_hidden": false
    }
   },
   "outputs": [],
   "source": [
    "class Warehouse:\n",
    "     \n",
    "    def __init__(\n",
    "        self, \n",
    "        env: simpy.Environment,\n",
    "        demand_inter_arrival_mean_time: float = 0.1,\n",
    "        demand_distribution: tuple[list[int], list[float]] = ([1, 2, 3, 4], [1/3, 1/6, 1/6, 1/3]),\n",
    "        inventory_level: float = 60,\n",
    "        inventory_check_interval: float = 1,\n",
    "        lead_time_min: float = 0.5,\n",
    "        lead_time_max: float = 1,\n",
    "        s_max: float = 40,\n",
    "        s_min: float = 20,\n",
    "        order_setup_cost: float = 32,\n",
    "        order_incremental_cost: float = 3,\n",
    "        holding_cost: float = 1,\n",
    "        shortage_cost: float = 5\n",
    "    ) -> None:\n",
    "        self.env = env\n",
    "        self.demand_inter_arrival_mean_time = demand_inter_arrival_mean_time\n",
    "        self.demand_distribution = demand_distribution\n",
    "        self._inventory_level = inventory_level\n",
    "        self.inventory_check_interval = inventory_check_interval\n",
    "        self.lead_time_min = lead_time_min\n",
    "        self.lead_time_max = lead_time_max\n",
    "        self.s_max = s_max\n",
    "        self.s_min = s_min\n",
    "        self.order_setup_cost = order_setup_cost\n",
    "        self.order_incremental_cost = order_incremental_cost\n",
    "        self.holding_cost = holding_cost\n",
    "        self.shortage_cost = shortage_cost\n",
    "        \n",
    "        self.total_order_cost = 0\n",
    "        \n",
    "        self.inventory_history: dict[float, float] = defaultdict(float)\n",
    "        \n",
    "        self.it: list[tuple[float, float]] = [(0, inventory_level)]\n",
    "        self.last_inventory_level: float = inventory_level\n",
    "        self.last_inventory_level_timestamp: float = 0\n",
    "\n",
    "        self.env.process(self.inventory_monitor())\n",
    "        self.env.process(self.demand_generator())\n",
    "\n",
    "    @property\n",
    "    def inventory_level(self):\n",
    "        return self._inventory_level\n",
    "\n",
    "    @inventory_level.setter\n",
    "    def inventory_level(self, value):\n",
    "        # Update last inventory level duration\n",
    "        self.inventory_history[self.last_inventory_level] += self.env.now - self.last_inventory_level_timestamp\n",
    "        \n",
    "        # Set new inventory level\n",
    "        self._inventory_level = value\n",
    "        self.it.append((self.env.now, self._inventory_level))\n",
    "        \n",
    "        # Update last inventory level\n",
    "        self.last_inventory_level_timestamp = self.env.now\n",
    "        self.last_inventory_level = self._inventory_level\n",
    "\n",
    "    @property\n",
    "    def total_holding_cost(self) -> float:\n",
    "        return sum(\n",
    "            max(inventory_level, 0) * duration * self.holding_cost \n",
    "            for inventory_level, duration in self.inventory_history.items()\n",
    "        )\n",
    "\n",
    "    @property\n",
    "    def total_shortage_cost(self) -> float:\n",
    "        return sum(\n",
    "            max(-inventory_level, 0) * duration * self.shortage_cost \n",
    "            for inventory_level, duration in self.inventory_history.items()\n",
    "        )\n",
    "\n",
    "    @property\n",
    "    def total_cost(self) -> float:\n",
    "        return self.total_order_cost + self.total_holding_cost + self.total_shortage_cost\n",
    "\n",
    "    def inventory_monitor(self):\n",
    "        while True:\n",
    "            yield self.env.timeout(self.inventory_check_interval)\n",
    "            if self.inventory_level < self.s_min:\n",
    "                self.env.process(self.order_up_to_s_max())\n",
    "    \n",
    "    def order_up_to_s_max(self):\n",
    "        z = self.s_max - self.inventory_level\n",
    "        self.total_order_cost += (self.order_setup_cost + self.order_incremental_cost * z)\n",
    "        lead_time = random.uniform(self.lead_time_min, self.lead_time_max)\n",
    "        yield self.env.timeout(lead_time)\n",
    "        self.inventory_level += z\n",
    "\n",
    "    def demand_generator(self):\n",
    "        while True:\n",
    "            demand_inter_arrival_time = random.expovariate(lambd=1/self.demand_inter_arrival_mean_time)\n",
    "            pop, weights = self.demand_distribution\n",
    "            demand_size = random.choices(pop, weights=weights, k=1)[0]\n",
    "            \n",
    "            yield self.env.timeout(demand_inter_arrival_time)\n",
    "            self.inventory_level -= demand_size\n",
    "    \n",
    "    def plot_inventory_level(self):\n",
    "        x, y = zip(*self.it)\n",
    "        plt.step(x, y, where='post')\n",
    "        plt.fill_between(x, y, step='post', alpha=0.2)\n",
    "        plt.title('I(t): Inventory level over time')\n",
    "        plt.xlabel('Simulation Time')\n",
    "        plt.ylabel('Inventory Length')\n",
    "        plt.show()"
   ]
  },
  {
   "cell_type": "code",
   "execution_count": 3,
   "id": "739105ffd35d532c",
   "metadata": {
    "ExecuteTime": {
     "end_time": "2024-03-07T15:05:11.701601Z",
     "start_time": "2024-03-07T15:05:11.699309Z"
    },
    "collapsed": false,
    "jupyter": {
     "outputs_hidden": false
    }
   },
   "outputs": [],
   "source": [
    "random.seed(42)\n",
    "env = simpy.Environment()\n",
    "warehouse = Warehouse(\n",
    "    env, \n",
    "    demand_inter_arrival_mean_time=0.1, # on average, 0.1 months between demands\n",
    "    demand_distribution=([1, 2, 3, 4], [1/3, 1/6, 1/6, 1/3]),\n",
    "    inventory_level=60,\n",
    "    inventory_check_interval=1,\n",
    "    lead_time_min=0.5,\n",
    "    lead_time_max=1,\n",
    "    s_max=40,\n",
    "    s_min=20,\n",
    "    order_setup_cost=32,\n",
    "    order_incremental_cost=3,\n",
    "    holding_cost=1,\n",
    "    shortage_cost=5\n",
    ")\n",
    "env.run(until=5)"
   ]
  },
  {
   "cell_type": "code",
   "execution_count": 4,
   "id": "7006573ff1d23d18",
   "metadata": {
    "ExecuteTime": {
     "end_time": "2024-03-07T15:05:11.705494Z",
     "start_time": "2024-03-07T15:05:11.702279Z"
    },
    "collapsed": false,
    "jupyter": {
     "outputs_hidden": false
    }
   },
   "outputs": [
    {
     "data": {
      "text/plain": [
       "428.4780375843177"
      ]
     },
     "execution_count": 4,
     "metadata": {},
     "output_type": "execute_result"
    }
   ],
   "source": [
    "warehouse.total_cost"
   ]
  },
  {
   "cell_type": "code",
   "execution_count": 5,
   "id": "369bc64e647fa52",
   "metadata": {
    "ExecuteTime": {
     "end_time": "2024-03-07T15:05:11.708828Z",
     "start_time": "2024-03-07T15:05:11.706782Z"
    },
    "collapsed": false,
    "jupyter": {
     "outputs_hidden": false
    }
   },
   "outputs": [
    {
     "data": {
      "text/plain": [
       "309"
      ]
     },
     "execution_count": 5,
     "metadata": {},
     "output_type": "execute_result"
    }
   ],
   "source": [
    "warehouse.total_order_cost"
   ]
  },
  {
   "cell_type": "code",
   "execution_count": 6,
   "id": "9f682c5179f990f2",
   "metadata": {
    "ExecuteTime": {
     "end_time": "2024-03-07T15:05:11.711411Z",
     "start_time": "2024-03-07T15:05:11.709425Z"
    },
    "collapsed": false,
    "jupyter": {
     "outputs_hidden": false
    }
   },
   "outputs": [
    {
     "data": {
      "text/plain": [
       "111.31865583015068"
      ]
     },
     "execution_count": 6,
     "metadata": {},
     "output_type": "execute_result"
    }
   ],
   "source": [
    "warehouse.total_holding_cost"
   ]
  },
  {
   "cell_type": "code",
   "execution_count": 7,
   "id": "aba080ba6c99d38e",
   "metadata": {
    "ExecuteTime": {
     "end_time": "2024-03-07T15:05:11.714273Z",
     "start_time": "2024-03-07T15:05:11.711979Z"
    },
    "collapsed": false,
    "jupyter": {
     "outputs_hidden": false
    }
   },
   "outputs": [
    {
     "data": {
      "text/plain": [
       "8.15938175416704"
      ]
     },
     "execution_count": 7,
     "metadata": {},
     "output_type": "execute_result"
    }
   ],
   "source": [
    "warehouse.total_shortage_cost"
   ]
  },
  {
   "cell_type": "code",
   "execution_count": 8,
   "id": "dd737f6ecf20fc5b",
   "metadata": {
    "ExecuteTime": {
     "end_time": "2024-03-07T15:05:11.787401Z",
     "start_time": "2024-03-07T15:05:11.714903Z"
    },
    "collapsed": false,
    "jupyter": {
     "outputs_hidden": false
    }
   },
   "outputs": [
    {
     "data": {
      "image/png": "[encoded data removed]",
      "text/plain": [
       "<Figure size 640x480 with 1 Axes>"
      ]
     },
     "metadata": {},
     "output_type": "display_data"
    }
   ],
   "source": [
    "warehouse.plot_inventory_level()"
   ]
  },
  {
   "cell_type": "code",
   "execution_count": 9,
   "id": "9c7ed392d9539995",
   "metadata": {
    "ExecuteTime": {
     "end_time": "2024-03-07T15:05:12.611643Z",
     "start_time": "2024-03-07T15:05:11.788093Z"
    },
    "collapsed": false,
    "jupyter": {
     "outputs_hidden": false
    }
   },
   "outputs": [
    {
     "data": {
      "image/png": "[encoded data removed]",
      "text/plain": [
       "<Figure size 640x480 with 1 Axes>"
      ]
     },
     "metadata": {},
     "output_type": "display_data"
    }
   ],
   "source": [
    "random.seed(None)\n",
    "params = (\n",
    "    # (s_min, s_max)\n",
    "    (20, 40),\n",
    "    (20, 60),\n",
    "    (20, 80),\n",
    "    (20, 100),\n",
    "    (40, 60),\n",
    "    (40, 80),\n",
    "    (40, 100),\n",
    "    (60, 80),\n",
    "    (60, 100)\n",
    ")\n",
    "\n",
    "results = {}\n",
    "for s_min, s_max in params:\n",
    "    for _ in range(30):\n",
    "        env = simpy.Environment()\n",
    "        warehouse = Warehouse(env, s_min=s_min, s_max=s_max)\n",
    "        env.run(until=120)\n",
    "        results.setdefault(s_min, {}).setdefault(s_max, []).append(warehouse.total_cost)\n",
    "\n",
    "for s_min, d in results.items():\n",
    "    s_maxs = list(d.keys())\n",
    "    average_total_costs = [statistics.mean(l) for l in d.values()]\n",
    "    plt.plot(s_maxs, average_total_costs, label=f's_min: {s_min}')\n",
    "    \n",
    "plt.title('Average Total Cost over s_max')\n",
    "plt.xlabel('s_max')\n",
    "plt.ylabel('Average Total Cost')\n",
    "plt.legend()\n",
    "plt.show()"
   ]
  }
 ],
 "metadata": {
  "kernelspec": {
   "display_name": "Python 3 (ipykernel)",
   "language": "python",
   "name": "python3"
  },
  "language_info": {
   "codemirror_mode": {
    "name": "ipython",
    "version": 3
   },
   "file_extension": ".py",
   "mimetype": "text/x-python",
   "name": "python",
   "nbconvert_exporter": "python",
   "pygments_lexer": "ipython3",
   "version": "3.12.6"
  }
 },
 "nbformat": 4,
 "nbformat_minor": 5
}
